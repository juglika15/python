{
 "cells": [
  {
   "cell_type": "code",
   "execution_count": 3,
   "metadata": {},
   "outputs": [
    {
     "name": "stdout",
     "output_type": "stream",
     "text": [
      "the number is small\n"
     ]
    }
   ],
   "source": [
    "# if/else\n",
    "\n",
    "a = 10\n",
    "\n",
    "if a > 15:\n",
    "    print('the number is big')\n",
    "else:\n",
    "    print('the number is small')"
   ]
  },
  {
   "cell_type": "code",
   "execution_count": 4,
   "metadata": {},
   "outputs": [
    {
     "name": "stdout",
     "output_type": "stream",
     "text": [
      "the first number is bigger\n"
     ]
    }
   ],
   "source": [
    "a = int(input('write the first number:'))\n",
    "b = int(input('write the second number:'))\n",
    "\n",
    "if a > b:\n",
    "    print('the first number is bigger')\n",
    "else:\n",
    "    print('the second number is bigger')"
   ]
  },
  {
   "cell_type": "code",
   "execution_count": null,
   "metadata": {},
   "outputs": [],
   "source": []
  }
 ],
 "metadata": {
  "kernelspec": {
   "display_name": "Python 3",
   "language": "python",
   "name": "python3"
  },
  "language_info": {
   "codemirror_mode": {
    "name": "ipython",
    "version": 3
   },
   "file_extension": ".py",
   "mimetype": "text/x-python",
   "name": "python",
   "nbconvert_exporter": "python",
   "pygments_lexer": "ipython3",
   "version": "3.9.6"
  }
 },
 "nbformat": 4,
 "nbformat_minor": 2
}
