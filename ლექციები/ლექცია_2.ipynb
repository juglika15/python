{
 "cells": [
  {
   "cell_type": "code",
   "execution_count": null,
   "metadata": {},
   "outputs": [],
   "source": [
    "# if/else\n",
    "\n",
    "a = 10\n",
    "\n",
    "if a > 15:\n",
    "    print('the number is big')\n",
    "else:\n",
    "    print('the number is small')"
   ]
  },
  {
   "cell_type": "code",
   "execution_count": null,
   "metadata": {},
   "outputs": [],
   "source": [
    "a = int(input('write the first number:'))\n",
    "b = int(input('write the second number:'))\n",
    "\n",
    "if a > b:\n",
    "    print('the first number is bigger')\n",
    "else:\n",
    "    print('the second number is bigger')"
   ]
  },
  {
   "cell_type": "code",
   "execution_count": null,
   "metadata": {},
   "outputs": [],
   "source": [
    "# elif\n",
    "\n",
    "a = int(input('write the first number:'))\n",
    "b = int(input('write the second number:'))\n",
    "\n",
    "if a > b:\n",
    "    print('the first number is bigger')\n",
    "elif a == b:\n",
    "    print('the numbers are equal')\n",
    "else:\n",
    "    print('the second number is bigger')"
   ]
  },
  {
   "cell_type": "code",
   "execution_count": null,
   "metadata": {},
   "outputs": [],
   "source": [
    "first_number = float(input('write the first number:'))\n",
    "second_number = float(input('write the second number:'))\n",
    "\n",
    "_sum = first_number + second_number\n",
    "\n",
    "if _sum > 50:\n",
    "    print('the sum is bigger than 50')\n",
    "elif _sum == 50:\n",
    "    print('the sum is 50')\n",
    "else:\n",
    "    print('the sum is less than 50')"
   ]
  },
  {
   "cell_type": "code",
   "execution_count": null,
   "metadata": {},
   "outputs": [],
   "source": [
    "# and/ or \n",
    "\n",
    "a =20 \n",
    "b = 10\n",
    "\n",
    "if a > 15 and b > 16:\n",
    "    print(\"both are true\")\n",
    "else:\n",
    "    print(\"at least one is false\")\n",
    "\n",
    "if a > 15 or b > 16:\n",
    "    print(\"both are true\")\n",
    "else:\n",
    "    print(\"at least one is false\")"
   ]
  },
  {
   "cell_type": "code",
   "execution_count": null,
   "metadata": {},
   "outputs": [],
   "source": [
    "# nested if\n",
    "\n",
    "a = 20\n",
    "b = 20\n",
    "\n",
    "if a > 20:\n",
    "    if b > 20:\n",
    "        print('all good')"
   ]
  },
  {
   "cell_type": "code",
   "execution_count": null,
   "metadata": {},
   "outputs": [],
   "source": [
    "a = 10\n",
    "b =7 \n",
    "\n",
    "if a % 2 == 0:\n",
    "    if a > b:\n",
    "        if b % 2 == 1:\n",
    "            print('all good')\n",
    "        print('a is even')\n",
    "    elif(b < a):\n",
    "        print('b is less than a')\n",
    "else:\n",
    "    print('a is odd')"
   ]
  },
  {
   "cell_type": "code",
   "execution_count": null,
   "metadata": {},
   "outputs": [],
   "source": [
    "is_raining = input('Is it raining? (yes/no): ').lower() == 'yes'\n",
    "temperature = int(input('Temperature: '))\n",
    "\n",
    "# Decision structure\n",
    "\n",
    "if is_raining:\n",
    "    if temperature >20:\n",
    "        print(\"It's a good day to visit museum.\")\n",
    "    else:\n",
    "        print('read a book')\n",
    "else:\n",
    "    if temperature > 20:\n",
    "        print('It is not raining and it is warm')\n",
    "    else:\n",
    "        print('It is not raining and it is cold')\n"
   ]
  },
  {
   "cell_type": "code",
   "execution_count": 10,
   "metadata": {},
   "outputs": [
    {
     "name": "stdout",
     "output_type": "stream",
     "text": [
      "You can drive\n"
     ]
    }
   ],
   "source": [
    "age = int(input('write your age:')) >= 18\n",
    "has_license = input('Do you have a license? (yes/no): ').lower() == 'yes'\n",
    "\n",
    "if age and has_license:\n",
    "    print('You can drive')\n",
    "else:\n",
    "    print('You can not drive')\n"
   ]
  }
 ],
 "metadata": {
  "kernelspec": {
   "display_name": "Python 3",
   "language": "python",
   "name": "python3"
  },
  "language_info": {
   "codemirror_mode": {
    "name": "ipython",
    "version": 3
   },
   "file_extension": ".py",
   "mimetype": "text/x-python",
   "name": "python",
   "nbconvert_exporter": "python",
   "pygments_lexer": "ipython3",
   "version": "3.9.6"
  }
 },
 "nbformat": 4,
 "nbformat_minor": 2
}
