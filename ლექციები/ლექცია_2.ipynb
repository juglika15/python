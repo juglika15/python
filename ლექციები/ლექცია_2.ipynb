{
 "cells": [
  {
   "cell_type": "code",
   "execution_count": 3,
   "metadata": {},
   "outputs": [
    {
     "name": "stdout",
     "output_type": "stream",
     "text": [
      "the number is small\n"
     ]
    }
   ],
   "source": [
    "# if/else\n",
    "\n",
    "a = 10\n",
    "\n",
    "if a > 15:\n",
    "    print('the number is big')\n",
    "else:\n",
    "    print('the number is small')"
   ]
  },
  {
   "cell_type": "code",
   "execution_count": 4,
   "metadata": {},
   "outputs": [
    {
     "name": "stdout",
     "output_type": "stream",
     "text": [
      "the first number is bigger\n"
     ]
    }
   ],
   "source": [
    "a = int(input('write the first number:'))\n",
    "b = int(input('write the second number:'))\n",
    "\n",
    "if a > b:\n",
    "    print('the first number is bigger')\n",
    "else:\n",
    "    print('the second number is bigger')"
   ]
  },
  {
   "cell_type": "code",
   "execution_count": 5,
   "metadata": {},
   "outputs": [
    {
     "name": "stdout",
     "output_type": "stream",
     "text": [
      "the numbers are equal\n"
     ]
    }
   ],
   "source": [
    "# elif\n",
    "\n",
    "a = int(input('write the first number:'))\n",
    "b = int(input('write the second number:'))\n",
    "\n",
    "if a > b:\n",
    "    print('the first number is bigger')\n",
    "elif a == b:\n",
    "    print('the numbers are equal')\n",
    "else:\n",
    "    print('the second number is bigger')"
   ]
  },
  {
   "cell_type": "code",
   "execution_count": null,
   "metadata": {},
   "outputs": [],
   "source": [
    "first_number = float(input('write the first number:'))\n",
    "second_number = float(input('write the second number:'))\n",
    "\n",
    "_sum = first_number + second_number\n",
    "\n",
    "if _sum > 50:\n",
    "    print('the sum is bigger than 50')\n",
    "elif _sum == 50:\n",
    "    print('the sum is 50')\n",
    "else:\n",
    "    print('the sum is less than 50')"
   ]
  },
  {
   "cell_type": "code",
   "execution_count": 7,
   "metadata": {},
   "outputs": [
    {
     "name": "stdout",
     "output_type": "stream",
     "text": [
      "at least one is false\n",
      "both are true\n"
     ]
    }
   ],
   "source": [
    "# and/ or \n",
    "\n",
    "a =20 \n",
    "b = 10\n",
    "\n",
    "if a > 15 and b > 16:\n",
    "    print(\"both are true\")\n",
    "else:\n",
    "    print(\"at least one is false\")\n",
    "\n",
    "if a > 15 or b > 16:\n",
    "    print(\"both are true\")\n",
    "else:\n",
    "    print(\"at least one is false\")"
   ]
  },
  {
   "cell_type": "code",
   "execution_count": null,
   "metadata": {},
   "outputs": [],
   "source": [
    "# nested if\n",
    "\n",
    "a = 20\n",
    "b = 20\n",
    "\n",
    "if a > 20:\n",
    "    if b > 20:\n",
    "        print('all good')"
   ]
  }
 ],
 "metadata": {
  "kernelspec": {
   "display_name": "Python 3",
   "language": "python",
   "name": "python3"
  },
  "language_info": {
   "codemirror_mode": {
    "name": "ipython",
    "version": 3
   },
   "file_extension": ".py",
   "mimetype": "text/x-python",
   "name": "python",
   "nbconvert_exporter": "python",
   "pygments_lexer": "ipython3",
   "version": "3.9.6"
  }
 },
 "nbformat": 4,
 "nbformat_minor": 2
}
