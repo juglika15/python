{
 "cells": [
  {
   "cell_type": "code",
   "execution_count": null,
   "metadata": {},
   "outputs": [],
   "source": [
    "n = int(input(\"ჩაწერეთ ნატურალური რიცხვი:\"))\n",
    "\n",
    "i = 1\n",
    "\n",
    "m = abs(n)\n",
    "\n",
    "\n",
    "while i <  m:\n",
    "    if m == i * i * i:\n",
    "        if m ==n:\n",
    "            print(f\"კუბური ფესვი არის {i}\")\n",
    "        else:\n",
    "            print(f\"კუბური ფესვი არის {i * -1}\")\n",
    "        break\n",
    "    else:\n",
    "        i +=1\n",
    "if i == m:\n",
    "    print('ვერ ვიპოვე')"
   ]
  }
 ],
 "metadata": {
  "language_info": {
   "name": "python"
  }
 },
 "nbformat": 4,
 "nbformat_minor": 2
}
