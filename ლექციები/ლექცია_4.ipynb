{
 "cells": [
  {
   "cell_type": "code",
   "execution_count": null,
   "metadata": {},
   "outputs": [],
   "source": [
    "for i in range(1, 4):\n",
    "    print(i)"
   ]
  },
  {
   "cell_type": "code",
   "execution_count": null,
   "metadata": {},
   "outputs": [],
   "source": [
    "# range(1, 4) 1, 2, 3\n",
    "# range(4) 0, 1, 2, 3\n",
    "# range(0, 4, 2)   0, 2\n"
   ]
  },
  {
   "cell_type": "code",
   "execution_count": 3,
   "metadata": {},
   "outputs": [
    {
     "name": "stdout",
     "output_type": "stream",
     "text": [
      "45\n",
      "362880\n"
     ]
    }
   ],
   "source": [
    "From = 1\n",
    "To = 10\n",
    "\n",
    "_sum = 0\n",
    "mult = 1\n",
    "\n",
    "for i in range(From, To ):\n",
    "    _sum += i\n",
    "    mult *= i\n",
    "\n",
    "print(_sum)\n",
    "print(mult)"
   ]
  }
 ],
 "metadata": {
  "kernelspec": {
   "display_name": "Python 3",
   "language": "python",
   "name": "python3"
  },
  "language_info": {
   "codemirror_mode": {
    "name": "ipython",
    "version": 3
   },
   "file_extension": ".py",
   "mimetype": "text/x-python",
   "name": "python",
   "nbconvert_exporter": "python",
   "pygments_lexer": "ipython3",
   "version": "3.9.6"
  }
 },
 "nbformat": 4,
 "nbformat_minor": 2
}
