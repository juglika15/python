{
 "cells": [
  {
   "cell_type": "code",
   "execution_count": null,
   "id": "75f6fe38",
   "metadata": {},
   "outputs": [],
   "source": [
    "# 1\n",
    "\n"
   ]
  }
 ],
 "metadata": {
  "language_info": {
   "name": "python"
  }
 },
 "nbformat": 4,
 "nbformat_minor": 5
}
