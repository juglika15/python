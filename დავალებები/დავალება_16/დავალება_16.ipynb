{
 "cells": [
  {
   "cell_type": "code",
   "execution_count": 2,
   "id": "75f6fe38",
   "metadata": {},
   "outputs": [
    {
     "name": "stdout",
     "output_type": "stream",
     "text": [
      "დახარისხება დასრულებულია.\n"
     ]
    }
   ],
   "source": [
    "# 1\n",
    "\n",
    "def process_purchases(input_file, small_file, high_file):\n",
    "    with open(input_file, 'r', encoding='utf-8') as f_in, \\\n",
    "         open(small_file, 'w', encoding='utf-8') as f_small, \\\n",
    "         open(high_file, 'w', encoding='utf-8') as f_high:\n",
    "\n",
    "        for line in f_in:\n",
    "            line = line.strip()\n",
    "            if not line:\n",
    "                continue\n",
    "\n",
    "            try:\n",
    "                _, _, amount_str, price_str = line.split(',')\n",
    "                amount = float(amount_str.strip())\n",
    "                price = float(price_str.strip())\n",
    "                total = amount * price\n",
    "\n",
    "                if total < 10:\n",
    "                    f_small.write(line + '\\n')\n",
    "                else:\n",
    "                    f_high.write(line + '\\n')\n",
    "\n",
    "            except ValueError as e:\n",
    "                print(f\"მონაცემის ფორმატი არასწორია\")\n",
    "def main():\n",
    "    process_purchases(\"data.txt\", \"small.txt\", \"high.txt\")\n",
    "    print(\"დახარისხება დასრულებულია.\")\n",
    "\n",
    "if __name__ == \"__main__\":\n",
    "    main()\n",
    "\n"
   ]
  }
 ],
 "metadata": {
  "kernelspec": {
   "display_name": "Python 3",
   "language": "python",
   "name": "python3"
  },
  "language_info": {
   "codemirror_mode": {
    "name": "ipython",
    "version": 3
   },
   "file_extension": ".py",
   "mimetype": "text/x-python",
   "name": "python",
   "nbconvert_exporter": "python",
   "pygments_lexer": "ipython3",
   "version": "3.9.6"
  }
 },
 "nbformat": 4,
 "nbformat_minor": 5
}
