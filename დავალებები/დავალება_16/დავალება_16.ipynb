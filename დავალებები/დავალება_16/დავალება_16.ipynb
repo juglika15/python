{
 "cells": [
  {
   "cell_type": "code",
   "execution_count": 2,
   "id": "75f6fe38",
   "metadata": {},
   "outputs": [
    {
     "name": "stdout",
     "output_type": "stream",
     "text": [
      "დახარისხება დასრულებულია.\n"
     ]
    }
   ],
   "source": [
    "# 1\n",
    "\n",
    "def process_purchases(input_file, small_file, high_file):\n",
    "    with open(input_file, 'r', encoding='utf-8') as f_in, \\\n",
    "         open(small_file, 'w', encoding='utf-8') as f_small, \\\n",
    "         open(high_file, 'w', encoding='utf-8') as f_high:\n",
    "\n",
    "        for line in f_in:\n",
    "            line = line.strip()\n",
    "            if not line:\n",
    "                continue\n",
    "\n",
    "            try:\n",
    "                _, _, amount_str, price_str = line.split(',')\n",
    "                amount = float(amount_str.strip())\n",
    "                price = float(price_str.strip())\n",
    "                total = amount * price\n",
    "\n",
    "                if total < 10:\n",
    "                    f_small.write(line + '\\n')\n",
    "                else:\n",
    "                    f_high.write(line + '\\n')\n",
    "\n",
    "            except ValueError as e:\n",
    "                print(f\"მონაცემის ფორმატი არასწორია\")\n",
    "def main():\n",
    "    process_purchases(\"data.txt\", \"small.txt\", \"high.txt\")\n",
    "    print(\"დახარისხება დასრულებულია.\")\n",
    "\n",
    "if __name__ == \"__main__\":\n",
    "    main()\n",
    "\n"
   ]
  },
  {
   "cell_type": "code",
   "execution_count": 5,
   "id": "a0562819",
   "metadata": {},
   "outputs": [
    {
     "name": "stdout",
     "output_type": "stream",
     "text": [
      "სტატისტიკა შენახულია stats.json ფაილში\n"
     ]
    }
   ],
   "source": [
    "# 2\n",
    "\n",
    "import json\n",
    "from collections import defaultdict\n",
    "\n",
    "def analyze_sales(file_path):\n",
    "    total_value = 0\n",
    "    total_quantity = 0\n",
    "    sale_count = 0\n",
    "\n",
    "    user_quantity = defaultdict(int)\n",
    "    user_value = defaultdict(float)\n",
    "    product_sales = defaultdict(int)\n",
    "\n",
    "    with open(file_path, 'r', encoding='utf-8') as f:\n",
    "        for line in f:\n",
    "            line = line.strip()\n",
    "            if not line:\n",
    "                continue\n",
    "\n",
    "            try:\n",
    "                user, product, amount_str, price_str = line.split(',')\n",
    "                amount = int(amount_str.strip())\n",
    "                price = float(price_str.strip())\n",
    "                value = amount * price\n",
    "\n",
    "                # A & B - მომხმარებლების მიხედვით დაგროვება\n",
    "                user_quantity[user] += amount\n",
    "                user_value[user] += value\n",
    "\n",
    "                # E - პროდუქტის მიხედვით დაგროვება\n",
    "                product_sales[product] += amount\n",
    "\n",
    "                # C & D - ჯამური დაგროვება\n",
    "                total_quantity += amount\n",
    "                total_value += value\n",
    "                sale_count += 1\n",
    "\n",
    "            except ValueError:\n",
    "                print(f\"გამოტოვებულია არასწორი სტრიქონი: {line}\")\n",
    "\n",
    "    # A: მაქსიმალური რაოდენობით შესყიდვის მომხმარებლები\n",
    "    max_quantity_value = max(user_quantity.values(), default=0)\n",
    "    max_quantity_users = [user for user, qty in user_quantity.items() if qty == max_quantity_value]\n",
    "\n",
    "    # B: მაქსიმალური ღირებულებით შესყიდვის მომხმარებლები\n",
    "    max_value_value = max(user_value.values(), default=0)\n",
    "    max_value_users = [user for user, val in user_value.items() if val == max_value_value]\n",
    "\n",
    "    # C & D: საშუალო მაჩვენებლები\n",
    "    average_value = total_value / sale_count if sale_count > 0 else 0\n",
    "    average_quantity = total_quantity / sale_count if sale_count > 0 else 0\n",
    "\n",
    "    # E: ყველაზე მეტი რაოდენობით გაყიდული პროდუქტი\n",
    "    max_product_qty = max(product_sales.values(), default=0)\n",
    "    top_products = [product for product, qty in product_sales.items() if qty == max_product_qty]\n",
    "\n",
    "    stats = {\n",
    "        \"max_quantity_users\": max_quantity_users,\n",
    "        \"max_quantity\": max_quantity_value,\n",
    "        \"max_value_users\": max_value_users,\n",
    "        \"max_value\": round(max_value_value, 2),\n",
    "        \"average_value\": round(average_value, 2),\n",
    "        \"average_quantity\": round(average_quantity, 2),\n",
    "        \"top_products\": top_products,\n",
    "        \"top_product_quantity\": max_product_qty\n",
    "    }\n",
    "\n",
    "    with open(\"stats.json\", \"w\", encoding=\"utf-8\") as out_f:\n",
    "        json.dump(stats, out_f, ensure_ascii=False, indent=4)\n",
    "\n",
    "    print(\"სტატისტიკა შენახულია stats.json ფაილში\")\n",
    "\n",
    "def main():\n",
    "    analyze_sales(\"data.txt\")\n",
    "\n",
    "if __name__ == \"__main__\":\n",
    "    main()"
   ]
  }
 ],
 "metadata": {
  "kernelspec": {
   "display_name": "Python 3",
   "language": "python",
   "name": "python3"
  },
  "language_info": {
   "codemirror_mode": {
    "name": "ipython",
    "version": 3
   },
   "file_extension": ".py",
   "mimetype": "text/x-python",
   "name": "python",
   "nbconvert_exporter": "python",
   "pygments_lexer": "ipython3",
   "version": "3.9.6"
  }
 },
 "nbformat": 4,
 "nbformat_minor": 5
}
