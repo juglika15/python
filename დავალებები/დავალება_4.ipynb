{
 "cells": [
  {
   "cell_type": "code",
   "execution_count": null,
   "metadata": {},
   "outputs": [
    {
     "name": "stdout",
     "output_type": "stream",
     "text": [
      "მოთამაშეების რაოდენობა: 3\n",
      "გაგორება: 2 3\n",
      "გაგორება: 1 1\n",
      "გაგორება: 6 2\n"
     ]
    }
   ],
   "source": [
    "# 4.1\n",
    "from random import randint\n",
    "\n",
    "player_count = int(input(\"შეიყვანეთ მოთამაშეების რაოდენობა: \"))\n",
    "\n",
    "print(f\"მოთამაშეების რაოდენობა: {player_count}\")\n",
    "\n",
    "for _ in range(player_count):\n",
    "    dice_1 = randint(1, 6)\n",
    "    dice_2 = randint(1, 6)\n",
    "    print(f\"გაგორება: {dice_1} {dice_2}\")"
   ]
  },
  {
   "cell_type": "code",
   "execution_count": 9,
   "metadata": {},
   "outputs": [
    {
     "name": "stdout",
     "output_type": "stream",
     "text": [
      "804\n",
      "116\n",
      "87\n",
      "138\n",
      "537\n",
      "ყველაზე დიდი 804\n"
     ]
    }
   ],
   "source": [
    "# 4.2\n",
    "from random import randint\n",
    "\n",
    "n = int(input(\"შეიყვანეთ რიცხვი [1-29]: \"))\n",
    "\n",
    "biggest_number = 0\n",
    "\n",
    "if not (0 < n < 30):\n",
    "    print('რიცხვი უნდა იყოს 1დან 30მდე')\n",
    "else:\n",
    "    for _ in range(n):\n",
    "        random_number = randint(1, 1000)\n",
    "        print(random_number)\n",
    "        if random_number > biggest_number:\n",
    "            biggest_number = random_number\n",
    "    print(\"ყველაზე დიდი\", biggest_number)"
   ]
  },
  {
   "cell_type": "code",
   "execution_count": null,
   "metadata": {},
   "outputs": [],
   "source": []
  }
 ],
 "metadata": {
  "kernelspec": {
   "display_name": "Python 3",
   "language": "python",
   "name": "python3"
  },
  "language_info": {
   "codemirror_mode": {
    "name": "ipython",
    "version": 3
   },
   "file_extension": ".py",
   "mimetype": "text/x-python",
   "name": "python",
   "nbconvert_exporter": "python",
   "pygments_lexer": "ipython3",
   "version": "3.9.6"
  }
 },
 "nbformat": 4,
 "nbformat_minor": 2
}
