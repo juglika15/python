{
 "cells": [
  {
   "cell_type": "code",
   "execution_count": 12,
   "metadata": {},
   "outputs": [
    {
     "name": "stdout",
     "output_type": "stream",
     "text": [
      "მოთამაშეების რაოდენობა: 3\n",
      "გაგორება: 4 3\n",
      "გაგორება: 3 6\n",
      "გაგორება: 5 4\n"
     ]
    }
   ],
   "source": [
    "# 4.1\n",
    "from random import randint\n",
    "\n",
    "player_count = int(input(\"შეიყვანეთ მოთამაშეების რაოდენობა: \"))\n",
    "\n",
    "if player_count < 0:\n",
    "    print(\"მოთამაშეების რაოდენობა უნდა იყოს მინიმუმ 1\")\n",
    "else:\n",
    "    print(f\"მოთამაშეების რაოდენობა: {player_count}\")\n",
    "    for _ in range(player_count):\n",
    "        dice_1 = randint(1, 6)\n",
    "        dice_2 = randint(1, 6)\n",
    "        print(f\"გაგორება: {dice_1} {dice_2}\")"
   ]
  },
  {
   "cell_type": "code",
   "execution_count": 13,
   "metadata": {},
   "outputs": [
    {
     "name": "stdout",
     "output_type": "stream",
     "text": [
      "404\n",
      "185\n",
      "25\n",
      "999\n",
      "553\n",
      "ყველაზე დიდი 999\n"
     ]
    }
   ],
   "source": [
    "# 4.2\n",
    "from random import randint\n",
    "\n",
    "n = int(input(\"შეიყვანეთ რიცხვი [1-29]: \"))\n",
    "\n",
    "biggest_number = 0\n",
    "\n",
    "if not (0 < n < 30):\n",
    "    print('რიცხვი უნდა იყოს 1დან 30მდე')\n",
    "else:\n",
    "    for _ in range(n):\n",
    "        random_number = randint(1, 1000)\n",
    "        print(random_number)\n",
    "        if random_number > biggest_number:\n",
    "            biggest_number = random_number\n",
    "    print(\"ყველაზე დიდი\", biggest_number)"
   ]
  },
  {
   "cell_type": "code",
   "execution_count": 18,
   "metadata": {},
   "outputs": [
    {
     "name": "stdout",
     "output_type": "stream",
     "text": [
      "რიცხვი: 20, გამყოფები: 1, 2, 4, 5, 10, 20\n"
     ]
    }
   ],
   "source": [
    "# 4.3\n",
    "number = int(input(\"შეიყვანეთ რიცხვი [1-1000): \"))\n",
    "\n",
    "if 0 < number < 1000:\n",
    "    result = '1'\n",
    "    for i in range(2, number + 1):\n",
    "        if number % i == 0:\n",
    "            result += f\", {i}\"\n",
    "    print(f\"რიცხვი: {number}, გამყოფები: {result}\")\n",
    "else:\n",
    "    print(\"შეიყვანეთ რიცხვი 1-დან 1000-მდე\")"
   ]
  }
 ],
 "metadata": {
  "kernelspec": {
   "display_name": "Python 3",
   "language": "python",
   "name": "python3"
  },
  "language_info": {
   "codemirror_mode": {
    "name": "ipython",
    "version": 3
   },
   "file_extension": ".py",
   "mimetype": "text/x-python",
   "name": "python",
   "nbconvert_exporter": "python",
   "pygments_lexer": "ipython3",
   "version": "3.9.6"
  }
 },
 "nbformat": 4,
 "nbformat_minor": 2
}
