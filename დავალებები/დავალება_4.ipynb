{
 "cells": [
  {
   "cell_type": "code",
   "execution_count": 2,
   "metadata": {},
   "outputs": [
    {
     "name": "stdout",
     "output_type": "stream",
     "text": [
      "მოთამაშეების რაოდენობა: 3\n",
      "გაგორება: 2 3\n",
      "გაგორება: 1 1\n",
      "გაგორება: 6 2\n"
     ]
    }
   ],
   "source": [
    "from random import randint\n",
    "\n",
    "player_count = int(input(\"შეიყვანეთ მოთამაშეების რაოდენობა: \"))\n",
    "\n",
    "print(f\"მოთამაშეების რაოდენობა: {player_count}\")\n",
    "\n",
    "for i in range(player_count):\n",
    "    dice_1 = randint(1, 6)\n",
    "    dice_2 = randint(1, 6)\n",
    "    print(f\"გაგორება: {dice_1} {dice_2}\")"
   ]
  },
  {
   "cell_type": "code",
   "execution_count": null,
   "metadata": {},
   "outputs": [],
   "source": []
  }
 ],
 "metadata": {
  "kernelspec": {
   "display_name": "Python 3",
   "language": "python",
   "name": "python3"
  },
  "language_info": {
   "codemirror_mode": {
    "name": "ipython",
    "version": 3
   },
   "file_extension": ".py",
   "mimetype": "text/x-python",
   "name": "python",
   "nbconvert_exporter": "python",
   "pygments_lexer": "ipython3",
   "version": "3.9.6"
  }
 },
 "nbformat": 4,
 "nbformat_minor": 2
}
