{
 "cells": [
  {
   "cell_type": "code",
   "execution_count": null,
   "id": "3f9390d4",
   "metadata": {},
   "outputs": [
    {
     "name": "stdout",
     "output_type": "stream",
     "text": [
      "ორშაბათი:\n",
      "  საშუალო ტემპერატურა: 31.67°C\n",
      "  მაქსიმალური ტემპერატურა: 34°C\n",
      "  მინიმალური ტემპერატურა: 28°C\n",
      "სამშაბათი:\n",
      "  საშუალო ტემპერატურა: 27.33°C\n",
      "  მაქსიმალური ტემპერატურა: 31°C\n",
      "  მინიმალური ტემპერატურა: 24°C\n",
      "ოთხშაბათი:\n",
      "  საშუალო ტემპერატურა: 24.67°C\n",
      "  მაქსიმალური ტემპერატურა: 27°C\n",
      "  მინიმალური ტემპერატურა: 23°C\n",
      "ხუთშაბათი:\n",
      "  საშუალო ტემპერატურა: 31.33°C\n",
      "  მაქსიმალური ტემპერატურა: 34°C\n",
      "  მინიმალური ტემპერატურა: 28°C\n",
      "პარასკევი:\n",
      "  საშუალო ტემპერატურა: 27.33°C\n",
      "  მაქსიმალური ტემპერატურა: 33°C\n",
      "  მინიმალური ტემპერატურა: 21°C\n",
      "შაბათი:\n",
      "  საშუალო ტემპერატურა: 25.33°C\n",
      "  მაქსიმალური ტემპერატურა: 31°C\n",
      "  მინიმალური ტემპერატურა: 20°C\n",
      "კვირა:\n",
      "  საშუალო ტემპერატურა: 26.67°C\n",
      "  მაქსიმალური ტემპერატურა: 31°C\n",
      "  მინიმალური ტემპერატურა: 21°C\n",
      "კვირის საშუალო ტემპერატურა: 27.76°C\n"
     ]
    }
   ],
   "source": [
    "# 13.1\n",
    "\n",
    "week_temperatures = ((33, 34, 28), (24, 31, 27), (24, 23, 27), (28, 32, 34), (33, 21, 28), (20, 25, 31), (21, 31, 28))\n",
    "\n",
    "week_days = ['ორშაბათი', 'სამშაბათი', 'ოთხშაბათი', 'ხუთშაბათი', 'პარასკევი', 'შაბათი', 'კვირა']\n",
    "\n",
    "weekly_avg_sum = 0\n",
    "\n",
    "for i, temps in enumerate(week_temperatures):\n",
    "    day_avg = sum(temps) / len(temps)\n",
    "    day_max = max(temps)\n",
    "    day_min = min(temps)\n",
    "    weekly_avg_sum += day_avg\n",
    "\n",
    "    print(f\"{week_days[i]}:\")\n",
    "    print(f\"  საშუალო ტემპერატურა: {day_avg:.2f}°C\")\n",
    "    print(f\"  მაქსიმალური ტემპერატურა: {day_max}°C\")\n",
    "    print(f\"  მინიმალური ტემპერატურა: {day_min}°C\")\n",
    "\n",
    "\n",
    "weekly_avg = weekly_avg_sum / len(week_temperatures)\n",
    "print(f\"კვირის საშუალო ტემპერატურა: {weekly_avg:.2f}°C\")\n"
   ]
  },
  {
   "cell_type": "code",
   "execution_count": 1,
   "id": "1cbae2e1",
   "metadata": {},
   "outputs": [
    {
     "name": "stdout",
     "output_type": "stream",
     "text": [
      "შუა წერტილი (0, 0) და (4, 4) შორის არის: (2.0, 2.0)\n",
      "შუა წერტილი (1, 2) და (3, 8) შორის არის: (2.0, 5.0)\n",
      "შუა წერტილი (-5, 10) და (5, -10) შორის არის: (0.0, 0.0)\n",
      "შუა წერტილი (2.5, 4.5) და (7.5, 9.5) შორის არის: (5.0, 7.0)\n"
     ]
    }
   ],
   "source": [
    "# 13.2\n",
    "\n",
    "def midpoint(x1, y1, x2, y2):\n",
    "    mid_x = (x1 + x2) / 2\n",
    "    mid_y = (y1 + y2) / 2\n",
    "    return (mid_x, mid_y)\n",
    "\n",
    "def main():\n",
    "    print(\"შუა წერტილი (0, 0) და (4, 4) შორის არის:\", midpoint(0, 0, 4, 4))\n",
    "    print(\"შუა წერტილი (1, 2) და (3, 8) შორის არის:\", midpoint(1, 2, 3, 8))\n",
    "    print(\"შუა წერტილი (-5, 10) და (5, -10) შორის არის:\", midpoint(-5, 10, 5, -10))\n",
    "    print(\"შუა წერტილი (2.5, 4.5) და (7.5, 9.5) შორის არის:\", midpoint(2.5, 4.5, 7.5, 9.5))\n",
    "\n",
    "if __name__ == \"__main__\":\n",
    "    main()"
   ]
  },
  {
   "cell_type": "code",
   "execution_count": null,
   "id": "da5a9332",
   "metadata": {},
   "outputs": [],
   "source": []
  }
 ],
 "metadata": {
  "kernelspec": {
   "display_name": "Python 3",
   "language": "python",
   "name": "python3"
  },
  "language_info": {
   "codemirror_mode": {
    "name": "ipython",
    "version": 3
   },
   "file_extension": ".py",
   "mimetype": "text/x-python",
   "name": "python",
   "nbconvert_exporter": "python",
   "pygments_lexer": "ipython3",
   "version": "3.9.6"
  }
 },
 "nbformat": 4,
 "nbformat_minor": 5
}
