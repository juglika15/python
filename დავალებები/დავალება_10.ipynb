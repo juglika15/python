{
 "cells": [
  {
   "cell_type": "code",
   "execution_count": 4,
   "id": "402d6045",
   "metadata": {},
   "outputs": [
    {
     "name": "stdout",
     "output_type": "stream",
     "text": [
      "32.0\n",
      "212.0\n",
      "0.0\n",
      "100.0\n",
      "68.0\n",
      "Invalid scale. Use 'C' for Celsius or 'F' for Fahrenheit.\n"
     ]
    }
   ],
   "source": [
    "# 10.1\n",
    "\n",
    "def convert_temperature(value, scale):\n",
    "    if scale.lower() == \"c\":\n",
    "        return value * 9 / 5 + 32\n",
    "    elif scale.lower() == \"f\":\n",
    "        return (value - 32) * 5 / 9\n",
    "    else:\n",
    "        return(\"Invalid scale. Use 'C' for Celsius or 'F' for Fahrenheit.\")\n",
    "\n",
    "def main():\n",
    "    print(convert_temperature(value=0, scale=\"C\"))\n",
    "    print(convert_temperature(value=100, scale=\"C\"))\n",
    "    print(convert_temperature(value=32, scale=\"F\"))\n",
    "    print(convert_temperature(value=212, scale=\"F\"))\n",
    "    print(convert_temperature(value=20, scale=\"C\"))\n",
    "    print(convert_temperature(value=77, scale=\"G\"))\n",
    "\n",
    "if __name__ == \"__main__\":\n",
    "    main()\n"
   ]
  }
 ],
 "metadata": {
  "kernelspec": {
   "display_name": "Python 3",
   "language": "python",
   "name": "python3"
  },
  "language_info": {
   "codemirror_mode": {
    "name": "ipython",
    "version": 3
   },
   "file_extension": ".py",
   "mimetype": "text/x-python",
   "name": "python",
   "nbconvert_exporter": "python",
   "pygments_lexer": "ipython3",
   "version": "3.9.6"
  }
 },
 "nbformat": 4,
 "nbformat_minor": 5
}
