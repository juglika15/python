{
 "cells": [
  {
   "cell_type": "code",
   "execution_count": 1,
   "metadata": {},
   "outputs": [
    {
     "name": "stdout",
     "output_type": "stream",
     "text": [
      "whoala\n"
     ]
    }
   ],
   "source": [
    "# 2.1\n",
    "\n",
    "bool_input = input(\"Enter a boolean value (true or false): \").lower() == \"true\"\n",
    "\n",
    "if bool_input:\n",
    "    print(\"whoala\")\n"
   ]
  },
  {
   "cell_type": "code",
   "execution_count": null,
   "metadata": {},
   "outputs": [
    {
     "name": "stdout",
     "output_type": "stream",
     "text": [
      "პირველი რიცხვი მეორე რიცხვის ჯერადი არაა\n"
     ]
    }
   ],
   "source": [
    "# 2.2\n",
    "a = float(input(\"შეიყვანეთ პირველი რიცხვი:\"))\n",
    "b = float(input(\"შეიყვანეთ მეორე რიცხვი:\"))\n",
    "\n",
    "if a % b == 0:\n",
    "    print('პირველი რიცხვი მეორე რიცხვის ჯერადია')\n",
    "else:\n",
    "    print('პირველი რიცხვი მეორე რიცხვის ჯერადი არაა')"
   ]
  },
  {
   "cell_type": "code",
   "execution_count": 14,
   "metadata": {},
   "outputs": [
    {
     "name": "stdout",
     "output_type": "stream",
     "text": [
      "2, 5\n"
     ]
    }
   ],
   "source": [
    "# 2.3\n",
    "a = float(input(\"შეიყვანეთ მთელი რიცხვი 1-დან 10-მდე: \"))\n",
    "\n",
    "if a % 1 == 0:  \n",
    "    a = int(a)\n",
    "    if 1 <= a <= 10:\n",
    "        result = \"\" \n",
    "        if a % 2 == 0:\n",
    "            result += \"2, \"\n",
    "        if a % 3 == 0:\n",
    "            result += \"3, \"\n",
    "        if a % 5 == 0:\n",
    "            result += \"5, \"\n",
    "        \n",
    "        if result:\n",
    "            print(result[:-2]) \n",
    "        else:\n",
    "            print(\"მარტივი გამყოფი არ არსებობს\")\n",
    "    else:\n",
    "        print(\"შეიყვანეთ რიცხვი 1-დან 10-მდე.\")\n",
    "else:\n",
    "    print(\"არ არის მთელი რიცხვი\")\n",
    "\n"
   ]
  },
  {
   "cell_type": "code",
   "execution_count": 17,
   "metadata": {},
   "outputs": [
    {
     "name": "stdout",
     "output_type": "stream",
     "text": [
      "VERY FAST\n"
     ]
    }
   ],
   "source": [
    "speed = int(input(\"შეიყვანეთ მანქანის სიჩქარე: \"))\n",
    "\n",
    "if speed < 30:\n",
    "    print(\"SLOW\")\n",
    "elif speed > 120:\n",
    "    print(\"VERY FAST\")\n",
    "elif speed > 60:\n",
    "    print(\"FAST\")\n",
    "else:\n",
    "    print(\"MODERATE\")"
   ]
  }
 ],
 "metadata": {
  "kernelspec": {
   "display_name": "Python 3",
   "language": "python",
   "name": "python3"
  },
  "language_info": {
   "codemirror_mode": {
    "name": "ipython",
    "version": 3
   },
   "file_extension": ".py",
   "mimetype": "text/x-python",
   "name": "python",
   "nbconvert_exporter": "python",
   "pygments_lexer": "ipython3",
   "version": "3.9.6"
  }
 },
 "nbformat": 4,
 "nbformat_minor": 2
}
