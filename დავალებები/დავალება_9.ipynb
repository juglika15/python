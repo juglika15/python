{
 "cells": [
  {
   "cell_type": "code",
   "execution_count": null,
   "id": "6a90f4aa",
   "metadata": {},
   "outputs": [],
   "source": [
    "# 9.1"
   ]
  }
 ],
 "metadata": {
  "language_info": {
   "name": "python"
  }
 },
 "nbformat": 4,
 "nbformat_minor": 5
}
