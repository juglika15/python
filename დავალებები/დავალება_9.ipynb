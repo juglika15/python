{
 "cells": [
  {
   "cell_type": "code",
   "execution_count": 1,
   "id": "6a90f4aa",
   "metadata": {},
   "outputs": [
    {
     "name": "stdout",
     "output_type": "stream",
     "text": [
      "3\n",
      "4\n",
      "5\n"
     ]
    }
   ],
   "source": [
    "# 9.1\n",
    "\n",
    "def count_vowels(text):\n",
    "    text_lower = text.lower()\n",
    "    vowels = 'aeiouაეიოუ'\n",
    "    count = 0\n",
    "    for char in text_lower:\n",
    "        if char in vowels:\n",
    "            count += 1\n",
    "    return count\n",
    "\n",
    "def main():\n",
    "    print(count_vowels(text=\"english Text\"))\n",
    "    print(count_vowels(text=\"F1 is The BEST Sport\"))\n",
    "    print(count_vowels(text=\"ქართული ტესქტი\"))\n",
    "\n",
    "if __name__ == \"__main__\":\n",
    "    main()\n"
   ]
  },
  {
   "cell_type": "code",
   "execution_count": null,
   "id": "9d815ffa",
   "metadata": {},
   "outputs": [
    {
     "name": "stdout",
     "output_type": "stream",
     "text": [
      "5\n",
      "-5\n",
      "100\n",
      "100\n",
      "No numbers provided.\n"
     ]
    }
   ],
   "source": [
    "# 9.2\n",
    "\n",
    "def find_maximum(*numbers):\n",
    "    if not numbers:\n",
    "        return \"No numbers provided.\"\n",
    "\n",
    "    max_number = numbers[0]\n",
    "    for num in numbers:\n",
    "        if num > max_number:\n",
    "            max_number = num\n",
    "\n",
    "    return max_number\n",
    "\n",
    "def main():\n",
    "    print(find_maximum(1, 3, 5, 2, 4))\n",
    "    print(find_maximum(-10, -5, -20))\n",
    "    print(find_maximum(100))\n",
    "    print(find_maximum(7, 8, 9, 100, 2, 3))\n",
    "    print(find_maximum())\n",
    "\n",
    "if __name__ == \"__main__\":\n",
    "    main()\n"
   ]
  },
  {
   "cell_type": "code",
   "execution_count": null,
   "id": "5c2bb344",
   "metadata": {},
   "outputs": [
    {
     "name": "stdout",
     "output_type": "stream",
     "text": [
      "6\n",
      "120\n",
      "24\n",
      "0\n",
      "720\n"
     ]
    }
   ],
   "source": [
    "# 9.3\n",
    "\n",
    "def calculate_factorial(number):\n",
    "    if number < 0:\n",
    "        number = abs(number)\n",
    "\n",
    "    if number == 0:\n",
    "        return 0\n",
    "\n",
    "    result = 1\n",
    "    for i in range(1, number + 1):\n",
    "        result = result * i\n",
    "\n",
    "    return result\n",
    "\n",
    "def main():\n",
    "    print(calculate_factorial(number=3))\n",
    "    print(calculate_factorial(number=5))\n",
    "    print(calculate_factorial(number=-4))\n",
    "    print(calculate_factorial(number=0))\n",
    "    print(calculate_factorial(number=-6)) \n",
    "\n",
    "if __name__ == \"__main__\":\n",
    "    main()\n"
   ]
  },
  {
   "cell_type": "code",
   "execution_count": 16,
   "id": "6beb8d09",
   "metadata": {},
   "outputs": [
    {
     "name": "stdout",
     "output_type": "stream",
     "text": [
      "2: is a prime number\n",
      "4: is not a prime number\n",
      "7: is a prime number\n",
      "10: is not a prime number\n",
      "13: is a prime number\n",
      "1: is not a prime number\n",
      "-5: is not a prime number\n"
     ]
    }
   ],
   "source": [
    "# 9.4\n",
    "\n",
    "def is_prime(number):\n",
    "    not_prime = f\"{number}: is not a prime number\"\n",
    "    if number < 2:\n",
    "        return not_prime\n",
    "\n",
    "    for i in range(2, number):\n",
    "        if number % i == 0:\n",
    "            return not_prime\n",
    "\n",
    "    return f\"{number}: is a prime number\"\n",
    "\n",
    "def main():\n",
    "    print(is_prime(number=2))\n",
    "    print(is_prime(number=4))\n",
    "    print(is_prime(number=7))\n",
    "    print(is_prime(number=10))\n",
    "    print(is_prime(number=13))\n",
    "    print(is_prime(number=1))\n",
    "    print(is_prime(number=-5))\n",
    "\n",
    "if __name__ == \"__main__\":\n",
    "    main()\n"
   ]
  },
  {
   "cell_type": "code",
   "execution_count": 17,
   "id": "7593a09a",
   "metadata": {},
   "outputs": [
    {
     "name": "stdout",
     "output_type": "stream",
     "text": [
      "dlrow olleh\n",
      "54321\n",
      "დალუთრაქ იტსქეტ\n"
     ]
    }
   ],
   "source": [
    "# 9.5\n",
    "\n",
    "def reverse_text(text):\n",
    "    return text[::-1]\n",
    "\n",
    "def main():\n",
    "    print(reverse_text(text=\"hello world\"))\n",
    "    print(reverse_text(text=\"12345\"))\n",
    "    print(reverse_text(text=\"ტექსტი ქართულად\"))\n",
    "\n",
    "if __name__ == \"__main__\":\n",
    "    main()\n",
    "\n",
    "\n"
   ]
  },
  {
   "cell_type": "code",
   "execution_count": null,
   "id": "c2c0b995",
   "metadata": {},
   "outputs": [
    {
     "name": "stdout",
     "output_type": "stream",
     "text": [
      "მანქანის მწარმოებელი: Toyota\n",
      "გამოშვების წელი: 2020\n",
      "კონფიგურაცია:\n",
      "- color: white\n",
      "- engine: hybrid\n",
      "\n",
      "მანქანის მწარმოებელი: Mercedes\n",
      "გამოშვების წელი: 2025\n",
      "კონფიგურაცია:\n",
      "- transmission: automatic\n",
      "- interior: leather\n",
      "\n",
      "მანქანის მწარმოებელი: Tesla\n",
      "გამოშვების წელი: 2022\n",
      "კონფიგურაცია:\n",
      "- engine: electric\n",
      "- autopilot: True\n",
      "- range_km: 500\n",
      "\n",
      "მანქანის მწარმოებელი: Honda\n",
      "გამოშვების წელი: 2025\n",
      "\n",
      "მანქანის მწარმოებელი: Ferrari\n",
      "გამოშვების წელი: 2024\n",
      "\n"
     ]
    }
   ],
   "source": [
    "# 9.6\n",
    "\n",
    "from datetime import datetime\n",
    "\n",
    "def car_info(manufacturer, year=datetime.now().year, **configurations):\n",
    "    print(f\"მანქანის მწარმოებელი: {manufacturer}\")\n",
    "    print(f\"გამოშვების წელი: {year}\")\n",
    "\n",
    "    if configurations:\n",
    "        print(\"კონფიგურაცია:\")\n",
    "        for key, value in configurations.items():\n",
    "            print(f\"- {key}: {value}\")\n",
    "\n",
    "    print(\"\")\n",
    "\n",
    "def main():\n",
    "    car_info(manufacturer=\"Toyota\", year=2015, color=\"white\", engine=\"hybrid\")\n",
    "    car_info(manufacturer=\"Mercedes\", transmission=\"automatic\", interior=\"leather\")\n",
    "    car_info(manufacturer=\"Tesla\", year=2023, engine=\"electric\", autopilot=True, range_mile=650)\n",
    "    car_info(manufacturer=\"Ferrari\", year=2024)\n",
    "    car_info(manufacturer=\"Lamborghini\")\n",
    "\n",
    "if __name__ == \"__main__\":\n",
    "    main()\n"
   ]
  }
 ],
 "metadata": {
  "kernelspec": {
   "display_name": "Python 3",
   "language": "python",
   "name": "python3"
  },
  "language_info": {
   "codemirror_mode": {
    "name": "ipython",
    "version": 3
   },
   "file_extension": ".py",
   "mimetype": "text/x-python",
   "name": "python",
   "nbconvert_exporter": "python",
   "pygments_lexer": "ipython3",
   "version": "3.9.6"
  }
 },
 "nbformat": 4,
 "nbformat_minor": 5
}
