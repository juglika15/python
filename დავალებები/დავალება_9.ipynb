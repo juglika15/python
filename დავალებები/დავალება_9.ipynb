{
 "cells": [
  {
   "cell_type": "code",
   "execution_count": 1,
   "id": "6a90f4aa",
   "metadata": {},
   "outputs": [
    {
     "name": "stdout",
     "output_type": "stream",
     "text": [
      "3\n",
      "4\n",
      "5\n"
     ]
    }
   ],
   "source": [
    "# 9.1\n",
    "\n",
    "def count_vowels(text):\n",
    "    text_lower = text.lower()\n",
    "    vowels = 'aeiouაეიოუ'\n",
    "    count = 0\n",
    "    for char in text_lower:\n",
    "        if char in vowels:\n",
    "            count += 1\n",
    "    return count\n",
    "\n",
    "def main():\n",
    "    print(count_vowels(text=\"english Text\"))\n",
    "    print(count_vowels(text=\"F1 is The BEST Sport\"))\n",
    "    print(count_vowels(text=\"ქართული ტესქტი\"))\n",
    "\n",
    "if __name__ == \"__main__\":\n",
    "    main()\n"
   ]
  },
  {
   "cell_type": "code",
   "execution_count": 2,
   "id": "9d815ffa",
   "metadata": {},
   "outputs": [
    {
     "name": "stdout",
     "output_type": "stream",
     "text": [
      "5\n",
      "-5\n",
      "100\n",
      "100\n",
      "No numbers provided.\n"
     ]
    }
   ],
   "source": [
    "def find_maximum(*numbers):\n",
    "    if not numbers:\n",
    "        return \"No numbers provided.\"\n",
    "\n",
    "    max_number = numbers[0]\n",
    "    for num in numbers:\n",
    "        if num > max_number:\n",
    "            max_number = num\n",
    "\n",
    "    return max_number\n",
    "\n",
    "def main():\n",
    "    print(find_maximum(1, 3, 5, 2, 4))\n",
    "    print(find_maximum(-10, -5, -20))\n",
    "    print(find_maximum(100))\n",
    "    print(find_maximum(7, 8, 9, 100, 2, 3))\n",
    "    print(find_maximum())\n",
    "\n",
    "if __name__ == \"__main__\":\n",
    "    main()\n"
   ]
  }
 ],
 "metadata": {
  "kernelspec": {
   "display_name": "Python 3",
   "language": "python",
   "name": "python3"
  },
  "language_info": {
   "codemirror_mode": {
    "name": "ipython",
    "version": 3
   },
   "file_extension": ".py",
   "mimetype": "text/x-python",
   "name": "python",
   "nbconvert_exporter": "python",
   "pygments_lexer": "ipython3",
   "version": "3.9.6"
  }
 },
 "nbformat": 4,
 "nbformat_minor": 5
}
