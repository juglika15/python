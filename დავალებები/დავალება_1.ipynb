{
 "cells": [
  {
   "cell_type": "code",
   "execution_count": 6,
   "metadata": {},
   "outputs": [
    {
     "name": "stdout",
     "output_type": "stream",
     "text": [
      "გამარჯობა ლაშა ჯუღელი, თქვენ ხართ 28 წლის\n"
     ]
    }
   ],
   "source": [
    "# 1.1\n",
    "\n",
    "# inputs\n",
    "name = input(\"შეიყვანეთ თქვენი სახელი: \")\n",
    "last_name = input(\"შეიყვანეთ თქვენი გვარი: \")\n",
    "age = input(\"შეიყვანეთ თქვენი ასაკი: \")\n",
    "\n",
    "print(f\"გამარჯობა {name} {last_name}, თქვენ ხართ {age} წლის\")"
   ]
  },
  {
   "cell_type": "code",
   "execution_count": 7,
   "metadata": {},
   "outputs": [
    {
     "name": "stdout",
     "output_type": "stream",
     "text": [
      "გამარჯობა ლაშა, თქვენ ხართ 29 წლის\n"
     ]
    }
   ],
   "source": [
    "# 1.2\n",
    "\n",
    "# inputs\n",
    "name = input(\"შეიყვანეთ თქვენი სახელი: \")\n",
    "birth_year = int(input(\"შეიყვანეთ თქვენი დაბადების წელი: \"))\n",
    "\n",
    "print(f\"გამარჯობა {name}, თქვენ ხართ {2025 - birth_year} წლის\")"
   ]
  },
  {
   "cell_type": "code",
   "execution_count": 8,
   "metadata": {},
   "outputs": [
    {
     "name": "stdout",
     "output_type": "stream",
     "text": [
      "სამკუთხედის ფართობია: 6.0, სამკუთხედის პერიმეტრია: 12\n"
     ]
    }
   ],
   "source": [
    "# 1.3\n",
    "import math\n",
    "\n",
    "side_1 = int(input(\"შეიყვანეთ პირველი გვერდის სიგრძე\"))\n",
    "side_2 = int(input(\"შეიყვანეთ მეორე გვერდის სიგრძე\"))\n",
    "side_3 = int(input(\"შეიყვანეთ მესამე გვერდის სიგრძე\"))\n",
    "\n",
    "perimeter = side_1 + side_2 + side_3\n",
    "semi_perimeter = perimeter/2\n",
    "area = math.sqrt(semi_perimeter * (semi_perimeter - side_1) * (semi_perimeter - side_2) * (semi_perimeter - side_3))\n",
    "\n",
    "print(f\"სამკუთხედის ფართობია: {area}, სამკუთხედის პერიმეტრია: {perimeter}\")"
   ]
  },
  {
   "cell_type": "code",
   "execution_count": 9,
   "metadata": {},
   "outputs": [
    {
     "name": "stdout",
     "output_type": "stream",
     "text": [
      "ტემპერატურა ფარენჰეიტში: 69.8\n"
     ]
    }
   ],
   "source": [
    "# 1.4\n",
    "\n",
    "celsius = int(input(\"შეიყვანეთ ტემპერატურა ცელსიუსებში:\"))\n",
    "\n",
    "print(f\"ტემპერატურა ფარენჰეიტში: {round(((celsius * 9 / 5) + 32), 1)}\")"
   ]
  }
 ],
 "metadata": {
  "kernelspec": {
   "display_name": "Python 3",
   "language": "python",
   "name": "python3"
  },
  "language_info": {
   "codemirror_mode": {
    "name": "ipython",
    "version": 3
   },
   "file_extension": ".py",
   "mimetype": "text/x-python",
   "name": "python",
   "nbconvert_exporter": "python",
   "pygments_lexer": "ipython3",
   "version": "3.9.6"
  }
 },
 "nbformat": 4,
 "nbformat_minor": 2
}
