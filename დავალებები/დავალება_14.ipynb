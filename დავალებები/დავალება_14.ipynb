{
 "cells": [
  {
   "cell_type": "code",
   "execution_count": 4,
   "id": "9a2f9c1f",
   "metadata": {},
   "outputs": [
    {
     "name": "stdout",
     "output_type": "stream",
     "text": [
      "ნიკა - 85 ქულა\n",
      "თამარი - 92 ქულა\n",
      "ლევანი - 78 ქულა\n",
      "მარიამი - 88 ქულა\n"
     ]
    }
   ],
   "source": [
    "# 1\n",
    "grades = {\n",
    "    \"ნიკა\": 85,\n",
    "    \"თამარი\": 92,\n",
    "    \"ლევანი\": 78,\n",
    "    \"მარიამი\": 88\n",
    "}\n",
    "\n",
    "# 1.1\n",
    "for name, score in grades.items():\n",
    "    print(f\"{name} - {score} ქულა\")\n",
    "\n"
   ]
  }
 ],
 "metadata": {
  "kernelspec": {
   "display_name": "Python 3",
   "language": "python",
   "name": "python3"
  },
  "language_info": {
   "codemirror_mode": {
    "name": "ipython",
    "version": 3
   },
   "file_extension": ".py",
   "mimetype": "text/x-python",
   "name": "python",
   "nbconvert_exporter": "python",
   "pygments_lexer": "ipython3",
   "version": "3.9.6"
  }
 },
 "nbformat": 4,
 "nbformat_minor": 5
}
