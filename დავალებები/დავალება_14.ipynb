{
 "cells": [
  {
   "cell_type": "code",
   "execution_count": 8,
   "id": "9a2f9c1f",
   "metadata": {},
   "outputs": [
    {
     "name": "stdout",
     "output_type": "stream",
     "text": [
      "1.1\n",
      "ნიკა - 85 ქულა\n",
      "თამარი - 92 ქულა\n",
      "ლევანი - 78 ქულა\n",
      "მარიამი - 88 ქულა\n",
      "\n",
      "1.2 სტუდენტი მაქსიმალური ქულით არის თამარი\n"
     ]
    }
   ],
   "source": [
    "# 1\n",
    "grades = {\n",
    "    \"ნიკა\": 85,\n",
    "    \"თამარი\": 92,\n",
    "    \"ლევანი\": 78,\n",
    "    \"მარიამი\": 88\n",
    "}\n",
    "\n",
    "# 1.1\n",
    "print(\"1.1\")\n",
    "for name, score in grades.items():\n",
    "    print(f\"{name} - {score} ქულა\")\n",
    "print(\"\")\n",
    "\n",
    "# 1.2\n",
    "max_grade_student = max(grades, key=grades.get)\n",
    "print(f\"1.2 სტუდენტი მაქსიმალური ქულით არის {max_grade_student}\")"
   ]
  }
 ],
 "metadata": {
  "kernelspec": {
   "display_name": "Python 3",
   "language": "python",
   "name": "python3"
  },
  "language_info": {
   "codemirror_mode": {
    "name": "ipython",
    "version": 3
   },
   "file_extension": ".py",
   "mimetype": "text/x-python",
   "name": "python",
   "nbconvert_exporter": "python",
   "pygments_lexer": "ipython3",
   "version": "3.9.6"
  }
 },
 "nbformat": 4,
 "nbformat_minor": 5
}
