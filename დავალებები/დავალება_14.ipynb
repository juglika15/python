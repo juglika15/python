{
 "cells": [
  {
   "cell_type": "code",
   "execution_count": 11,
   "id": "9a2f9c1f",
   "metadata": {},
   "outputs": [
    {
     "name": "stdout",
     "output_type": "stream",
     "text": [
      "1.1\n",
      "ნიკა - 85 ქულა\n",
      "თამარი - 92 ქულა\n",
      "ლევანი - 78 ქულა\n",
      "მარიამი - 88 ქულა\n",
      "\n",
      "1.2 სტუდენტი მაქსიმალური ქულით არის თამარი\n",
      "\n",
      "1.3 საშუალო ქულა: 85.75\n"
     ]
    }
   ],
   "source": [
    "# 1\n",
    "grades = {\n",
    "    \"ნიკა\": 85,\n",
    "    \"თამარი\": 92,\n",
    "    \"ლევანი\": 78,\n",
    "    \"მარიამი\": 88\n",
    "}\n",
    "\n",
    "# 1.1\n",
    "print(\"1.1\")\n",
    "for name, score in grades.items():\n",
    "    print(f\"{name} - {score} ქულა\")\n",
    "print(\"\")\n",
    "\n",
    "# 1.2\n",
    "max_grade_student = max(grades, key=grades.get)\n",
    "print(f\"1.2 სტუდენტი მაქსიმალური ქულით არის {max_grade_student}\")\n",
    "print(\"\")\n",
    "\n",
    "# 1.3\n",
    "average = sum(grades.values()) / len(grades)\n",
    "print(f\"1.3 საშუალო ქულა: {average:.2f}\")"
   ]
  },
  {
   "cell_type": "code",
   "execution_count": 16,
   "id": "086fdfc5",
   "metadata": {},
   "outputs": [
    {
     "name": "stdout",
     "output_type": "stream",
     "text": [
      "{'ატამი': 35, 'ბანანი': 20, 'ფორთოხალი': 25}\n",
      "ატამი - 35\n",
      "ფორთოხალი - 25\n"
     ]
    }
   ],
   "source": [
    "# 2\n",
    "products = {\n",
    "    \"ვაშლი\": 20,\n",
    "    \"ატამი\": 35,\n",
    "    \"ბანანი\": 12\n",
    "}\n",
    "\n",
    "# 2.1\n",
    "products[\"ფორთოხალი\"] = 25\n",
    "\n",
    "# 2.2\n",
    "products[\"ბანანი\"] += 8\n",
    "\n",
    "# 2.3\n",
    "del products[\"ვაშლი\"]\n",
    "\n",
    "print(products)\n",
    "\n",
    "# 2.4\n",
    "for product, quantity in products.items():\n",
    "    if quantity > 20:\n",
    "        print(f\"{product} - {quantity}\")\n"
   ]
  },
  {
   "cell_type": "code",
   "execution_count": 19,
   "id": "3bbdea17",
   "metadata": {},
   "outputs": [
    {
     "name": "stdout",
     "output_type": "stream",
     "text": [
      "ოსტატი და მარგარიტა (1967)\n",
      "[{'სათაური': 'ოსტატი და მარგარიტა', 'ავტორი': 'ბულგაკოვი', 'წელი': 1967, 'ჟანრი': 'სატირა'}, {'სათაური': 'გრაფი მონტე კრისტო', 'ავტორი': 'ალექსანდრე დიუმა', 'წელი': 1846, 'ჟანრი': 'სატავგადასავლო'}, {'სათაური': '1984', 'ავტორი': 'ჯორჯ ორუელი', 'წელი': 1949, 'ჟანრი': 'დისტროპიული ფანტასტიკა'}]\n"
     ]
    }
   ],
   "source": [
    "# 3\n",
    "\n",
    "# 3.1\n",
    "books = [\n",
    "    {\"სათაური\": \"ოსტატი და მარგარიტა\", \"ავტორი\": \"ბულგაკოვი\", \"წელი\": 1967},\n",
    "    {\"სათაური\": \"გრაფი მონტე კრისტო\", \"ავტორი\": \"ალექსანდრე დიუმა\", \"წელი\": 1846},\n",
    "    {\"სათაური\": \"1984\", \"ავტორი\": \"ჯორჯ ორუელი\", \"წელი\": 1949}\n",
    "]\n",
    "\n",
    "# 3.2\n",
    "for book in books:\n",
    "    if book[\"წელი\"] > 1950:\n",
    "        print(f\"{book['სათაური']} ({book['წელი']})\")\n",
    "\n",
    "# 3.3\n",
    "books[0][\"ჟანრი\"] = \"სატირა\"\n",
    "books[1][\"ჟანრი\"] = \"სატავგადასავლო\"\n",
    "books[2][\"ჟანრი\"] = \"დისტროპიული ფანტასტიკა\"\n",
    "\n",
    "print(books)"
   ]
  }
 ],
 "metadata": {
  "kernelspec": {
   "display_name": "Python 3",
   "language": "python",
   "name": "python3"
  },
  "language_info": {
   "codemirror_mode": {
    "name": "ipython",
    "version": 3
   },
   "file_extension": ".py",
   "mimetype": "text/x-python",
   "name": "python",
   "nbconvert_exporter": "python",
   "pygments_lexer": "ipython3",
   "version": "3.9.6"
  }
 },
 "nbformat": 4,
 "nbformat_minor": 5
}
