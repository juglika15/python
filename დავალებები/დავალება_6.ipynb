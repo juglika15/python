{
 "cells": [
  {
   "cell_type": "code",
   "execution_count": null,
   "metadata": {},
   "outputs": [
    {
     "name": "stdout",
     "output_type": "stream",
     "text": [
      "random number: 6\n",
      "Guess #1: high\n",
      "Guess #2: high\n",
      "Guess #3: high\n",
      "Guess #4: low\n",
      "Guess #5: low\n",
      "Guess #6: high\n",
      "Guess #7: high\n",
      "Guess #8: high\n",
      "Guess #9: high\n",
      "You are a winner\n"
     ]
    }
   ],
   "source": [
    "# 6.1\n",
    "\n",
    "from random import randint\n",
    "x = randint(1, 100)\n",
    "# print(f\"random number: {x}\")\n",
    "\n",
    "for i in range(1,11):\n",
    "    a = int(input('Enter number: '))\n",
    "    if a == x:\n",
    "        print('You are a winner')\n",
    "        break\n",
    "    elif a > x:\n",
    "        print(f\"Guess #{i}: high\")\n",
    "    else:\n",
    "        print(f\"Guess #{i}: low\")\n"
   ]
  },
  {
   "cell_type": "code",
   "execution_count": 13,
   "metadata": {},
   "outputs": [
    {
     "name": "stdout",
     "output_type": "stream",
     "text": [
      "10 -> 5 -> 16 -> 8 -> 4 -> 2 -> 1\n"
     ]
    }
   ],
   "source": [
    "# 6.2\n",
    "\n",
    "n = int(input(\"Enter a positive integer (0 < n <= 1000): \"))\n",
    "if n <= 0 or n > 1000:\n",
    "    print(\"Invalid input. Please enter a number between 1 and 1000.\")\n",
    "else:\n",
    "    sequence = \"\"\n",
    "    while n != 1:\n",
    "        sequence += str(n) + \" -> \"\n",
    "        if n % 2 == 0:\n",
    "            n = n // 2\n",
    "        else:\n",
    "            n = n * 3 + 1\n",
    "    sequence += \"1\"\n",
    "    print(sequence)\n"
   ]
  },
  {
   "cell_type": "code",
   "execution_count": 15,
   "metadata": {},
   "outputs": [
    {
     "name": "stdout",
     "output_type": "stream",
     "text": [
      "enter number 543\n",
      "reversed number is 345\n",
      "sum of digits: 12\n"
     ]
    }
   ],
   "source": [
    "# 6.3\n",
    "\n",
    "n = int(input(\"enter number: \"))\n",
    "temp = n\n",
    "reversed_number = 0\n",
    "sum_of_digits = 0\n",
    "\n",
    "while temp > 0:\n",
    "    digit = temp % 10\n",
    "    reversed_number = reversed_number * 10 + digit\n",
    "    sum_of_digits += digit\n",
    "    temp //= 10\n",
    "\n",
    "print(\"enter number\", n)\n",
    "print(\"reversed number is\", reversed_number)\n",
    "print(\"sum of digits:\", sum_of_digits)"
   ]
  },
  {
   "cell_type": "code",
   "execution_count": 16,
   "metadata": {},
   "outputs": [
    {
     "name": "stdout",
     "output_type": "stream",
     "text": [
      "1 \n",
      "1 2 \n",
      "1 2 3 \n",
      "1 2 3 4 \n",
      "1 2 3 4 5 \n",
      "1 2 3 4 \n",
      "1 2 3 \n",
      "1 2 \n",
      "1 \n"
     ]
    }
   ],
   "source": [
    "# 6.4\n",
    "\n",
    "n = int(input(\"შეიყვანეთ მთელი რიცხვი (0 < n < 10): \"))\n",
    "\n",
    "if n <= 0 or n >= 10:\n",
    "    print(\"რიცხვი უნდა იყოს 0-ზე მეტი და 10-ზე ნაკლები\")\n",
    "else:\n",
    "    i = 1\n",
    "    while i <= n:\n",
    "        j = 1\n",
    "        while j <= i:\n",
    "            print(j, end=\" \")\n",
    "            j += 1\n",
    "        print()\n",
    "        i += 1\n",
    "\n",
    "    i = n - 1\n",
    "    while i >= 1:\n",
    "        j = 1\n",
    "        while j <= i:\n",
    "            print(j, end=\" \")\n",
    "            j += 1\n",
    "        print()\n",
    "        i -= 1"
   ]
  },
  {
   "cell_type": "code",
   "execution_count": 20,
   "metadata": {},
   "outputs": [
    {
     "name": "stdout",
     "output_type": "stream",
     "text": [
      "          0 \n",
      "        1 0 1 \n",
      "      2 1 0 1 2 \n",
      "    3 2 1 0 1 2 3 \n",
      "  4 3 2 1 0 1 2 3 4 \n",
      "5 4 3 2 1 0 1 2 3 4 5 \n"
     ]
    }
   ],
   "source": [
    "# 6.5 \n",
    "\n",
    "n = int(input(\"Enter an integer (0 < n < 10): \"))\n",
    "if n <= 0 or n >= 10:\n",
    "    print(\"Invalid input. Please enter a number between 1 and 9.\")\n",
    "else:\n",
    "    i = 0\n",
    "    while i <= n:\n",
    "\n",
    "        spaces = \"\"\n",
    "        j = 0\n",
    "        while j < (n - i):\n",
    "            spaces += \"  \"\n",
    "            j += 1\n",
    "\n",
    "        line = \"\"\n",
    "        j = i\n",
    "        while j >= 0:\n",
    "            line += str(j) + \" \"\n",
    "            j -= 1\n",
    "\n",
    "        j = 1\n",
    "        while j <= i:\n",
    "            line += str(j) + \" \"\n",
    "            j += 1\n",
    "\n",
    "        print(spaces + line)\n",
    "        i += 1\n"
   ]
  }
 ],
 "metadata": {
  "kernelspec": {
   "display_name": "Python 3",
   "language": "python",
   "name": "python3"
  },
  "language_info": {
   "codemirror_mode": {
    "name": "ipython",
    "version": 3
   },
   "file_extension": ".py",
   "mimetype": "text/x-python",
   "name": "python",
   "nbconvert_exporter": "python",
   "pygments_lexer": "ipython3",
   "version": "3.9.6"
  }
 },
 "nbformat": 4,
 "nbformat_minor": 2
}
