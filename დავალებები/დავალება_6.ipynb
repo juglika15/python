{
 "cells": [
  {
   "cell_type": "code",
   "execution_count": null,
   "metadata": {},
   "outputs": [
    {
     "name": "stdout",
     "output_type": "stream",
     "text": [
      "random number: 6\n",
      "Guess #1: high\n",
      "Guess #2: high\n",
      "Guess #3: high\n",
      "Guess #4: low\n",
      "Guess #5: low\n",
      "Guess #6: high\n",
      "Guess #7: high\n",
      "Guess #8: high\n",
      "Guess #9: high\n",
      "You are a winner\n"
     ]
    }
   ],
   "source": [
    "# 6.1\n",
    "\n",
    "from random import randint\n",
    "x = randint(1, 100)\n",
    "# print(f\"random number: {x}\")\n",
    "\n",
    "for i in range(1,11):\n",
    "    a = int(input('Enter number: '))\n",
    "    if a == x:\n",
    "        print('You are a winner')\n",
    "        break\n",
    "    elif a > x:\n",
    "        print(f\"Guess #{i}: high\")\n",
    "    else:\n",
    "        print(f\"Guess #{i}: low\")\n"
   ]
  },
  {
   "cell_type": "code",
   "execution_count": 13,
   "metadata": {},
   "outputs": [
    {
     "name": "stdout",
     "output_type": "stream",
     "text": [
      "10 -> 5 -> 16 -> 8 -> 4 -> 2 -> 1\n"
     ]
    }
   ],
   "source": [
    "# 6.2\n",
    "\n",
    "n = int(input(\"Enter a positive integer (0 < n <= 1000): \"))\n",
    "if n <= 0 or n > 1000:\n",
    "    print(\"Invalid input. Please enter a number between 1 and 1000.\")\n",
    "else:\n",
    "    sequence = \"\"\n",
    "    while n != 1:\n",
    "        sequence += str(n) + \" -> \"\n",
    "        if n % 2 == 0:\n",
    "            n = n // 2\n",
    "        else:\n",
    "            n = n * 3 + 1\n",
    "    sequence += \"1\"\n",
    "    print(sequence)\n"
   ]
  }
 ],
 "metadata": {
  "kernelspec": {
   "display_name": "Python 3",
   "language": "python",
   "name": "python3"
  },
  "language_info": {
   "codemirror_mode": {
    "name": "ipython",
    "version": 3
   },
   "file_extension": ".py",
   "mimetype": "text/x-python",
   "name": "python",
   "nbconvert_exporter": "python",
   "pygments_lexer": "ipython3",
   "version": "3.9.6"
  }
 },
 "nbformat": 4,
 "nbformat_minor": 2
}
