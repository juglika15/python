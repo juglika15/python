{
 "cells": [
  {
   "cell_type": "code",
   "execution_count": 2,
   "metadata": {},
   "outputs": [
    {
     "name": "stdout",
     "output_type": "stream",
     "text": [
      "the sentance\n",
      "tsnac\n"
     ]
    }
   ],
   "source": [
    "# 7.1\n",
    "\n",
    "s = input(\"შეიყვანეთ სტრიქონი: \")\n",
    "result = \"\"\n",
    "i = 0\n",
    "while i < len(s):\n",
    "    if i % 2 == 0 and s[i] != \"e\":\n",
    "        result += s[i]\n",
    "    i += 1\n",
    "print(s)\n",
    "print(result)"
   ]
  },
  {
   "cell_type": "code",
   "execution_count": null,
   "metadata": {},
   "outputs": [],
   "source": []
  }
 ],
 "metadata": {
  "kernelspec": {
   "display_name": "Python 3",
   "language": "python",
   "name": "python3"
  },
  "language_info": {
   "codemirror_mode": {
    "name": "ipython",
    "version": 3
   },
   "file_extension": ".py",
   "mimetype": "text/x-python",
   "name": "python",
   "nbconvert_exporter": "python",
   "pygments_lexer": "ipython3",
   "version": "3.9.6"
  }
 },
 "nbformat": 4,
 "nbformat_minor": 2
}
