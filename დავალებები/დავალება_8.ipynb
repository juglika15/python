{
 "cells": [
  {
   "cell_type": "code",
   "execution_count": 4,
   "metadata": {},
   "outputs": [
    {
     "name": "stdout",
     "output_type": "stream",
     "text": [
      "word \"level\" is palindrome\n"
     ]
    }
   ],
   "source": [
    "# 8.1\n",
    "import re\n",
    "\n",
    "text = input(\"შეიყვანეთ სტრიქონი: \")\n",
    "\n",
    "cleaned = re.sub(r'[^A-Za-z]', '', text).lower()\n",
    "    \n",
    "if cleaned == cleaned[::-1]:\n",
    "    print(f\"\"\"word \"{text}\" is palindrome\"\"\")\n",
    "else:\n",
    "   print(f\"\"\"word \"{text}\" is not palindrome\"\"\")\n"
   ]
  },
  {
   "cell_type": "code",
   "execution_count": null,
   "metadata": {},
   "outputs": [],
   "source": []
  }
 ],
 "metadata": {
  "kernelspec": {
   "display_name": "Python 3",
   "language": "python",
   "name": "python3"
  },
  "language_info": {
   "codemirror_mode": {
    "name": "ipython",
    "version": 3
   },
   "file_extension": ".py",
   "mimetype": "text/x-python",
   "name": "python",
   "nbconvert_exporter": "python",
   "pygments_lexer": "ipython3",
   "version": "3.9.6"
  }
 },
 "nbformat": 4,
 "nbformat_minor": 2
}
