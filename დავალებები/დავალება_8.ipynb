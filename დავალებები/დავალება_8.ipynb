{
 "cells": [
  {
   "cell_type": "code",
   "execution_count": 4,
   "metadata": {},
   "outputs": [
    {
     "name": "stdout",
     "output_type": "stream",
     "text": [
      "word \"level\" is palindrome\n"
     ]
    }
   ],
   "source": [
    "# 8.1\n",
    "import re\n",
    "\n",
    "text = input(\"შეიყვანეთ სტრიქონი: \")\n",
    "\n",
    "cleaned = re.sub(r'[^A-Za-z]', '', text).lower()\n",
    "    \n",
    "if cleaned == cleaned[::-1]:\n",
    "    print(f\"\"\"word \"{text}\" is palindrome\"\"\")\n",
    "else:\n",
    "   print(f\"\"\"word \"{text}\" is not palindrome\"\"\")\n"
   ]
  },
  {
   "cell_type": "code",
   "execution_count": 9,
   "metadata": {},
   "outputs": [
    {
     "name": "stdout",
     "output_type": "stream",
     "text": [
      "YES\n"
     ]
    }
   ],
   "source": [
    "# 8.2\n",
    "from collections import Counter\n",
    "\n",
    "text1 = input(\"შეიყვანეთ პირველი სტრიქონი: \").lower()\n",
    "text2 = input(\"შეიყვანეთ მეორე სტრიქონი: \").lower()\n",
    "\n",
    "\n",
    "if Counter(text1) == Counter(text2):\n",
    "    print(\"YES\")\n",
    "else:\n",
    "    print(\"NO\")"
   ]
  },
  {
   "cell_type": "code",
   "execution_count": 10,
   "metadata": {},
   "outputs": [
    {
     "name": "stdout",
     "output_type": "stream",
     "text": [
      "22-03-2024 7:17:42 +0\n"
     ]
    }
   ],
   "source": [
    "# 8.3\n",
    "\n",
    "iso_string = input(\"Enter ISO datetime string: \")\n",
    "\n",
    "if '+' in iso_string:\n",
    "    date_time, timezone = iso_string.split('+')\n",
    "    sign = '+'\n",
    "else:\n",
    "    date_time, timezone = iso_string.split('-')\n",
    "    sign = '-'\n",
    "\n",
    "date, time = date_time.split('T')\n",
    "year, month, day = date.split('-')\n",
    "\n",
    "hour, minute, second = time.split(':')\n",
    "second = second.split('.')[0]\n",
    "hour = int(hour)\n",
    "\n",
    "hour_12 = hour % 12\n",
    "if hour_12 == 0:\n",
    "    hour_12 = 12\n",
    "\n",
    "tz_hour = timezone.split(':')[0]\n",
    "offset = f\"{sign}{int(tz_hour)}\"\n",
    "\n",
    "print(f\"{day}-{month}-{year} {hour_12}:{minute}:{second} {offset}\")\n"
   ]
  }
 ],
 "metadata": {
  "kernelspec": {
   "display_name": "Python 3",
   "language": "python",
   "name": "python3"
  },
  "language_info": {
   "codemirror_mode": {
    "name": "ipython",
    "version": 3
   },
   "file_extension": ".py",
   "mimetype": "text/x-python",
   "name": "python",
   "nbconvert_exporter": "python",
   "pygments_lexer": "ipython3",
   "version": "3.9.6"
  }
 },
 "nbformat": 4,
 "nbformat_minor": 2
}
