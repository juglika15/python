{
 "cells": [
  {
   "cell_type": "code",
   "execution_count": 5,
   "id": "a1869be1",
   "metadata": {},
   "outputs": [
    {
     "name": "stdout",
     "output_type": "stream",
     "text": [
      "Average temperature is 23.29°C\n"
     ]
    }
   ],
   "source": [
    "# 11.1\n",
    "\n",
    "temps = [22, 25, 19, 23, 25, 26, 23]\n",
    "\n",
    "average_temperature = sum(temps) / len(temps)\n",
    "\n",
    "print(f\"Average temperature is {average_temperature:.2f}°C\")"
   ]
  }
 ],
 "metadata": {
  "kernelspec": {
   "display_name": "Python 3",
   "language": "python",
   "name": "python3"
  },
  "language_info": {
   "codemirror_mode": {
    "name": "ipython",
    "version": 3
   },
   "file_extension": ".py",
   "mimetype": "text/x-python",
   "name": "python",
   "nbconvert_exporter": "python",
   "pygments_lexer": "ipython3",
   "version": "3.9.6"
  }
 },
 "nbformat": 4,
 "nbformat_minor": 5
}
