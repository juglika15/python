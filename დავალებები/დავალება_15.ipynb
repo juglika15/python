{
 "cells": [
  {
   "cell_type": "code",
   "execution_count": 3,
   "id": "b45f6f4a",
   "metadata": {},
   "outputs": [
    {
     "name": "stdout",
     "output_type": "stream",
     "text": [
      "Without cache: [3, 10, 5, 16, 8, 4, 2, 1]\n",
      "With cache: [3, 10, 5, 16, 8, 4, 2, 1]\n",
      "Cached values: {1: [1], 2: [2, 1], 4: [4, 2, 1], 8: [8, 4, 2, 1], 16: [16, 8, 4, 2, 1], 5: [5, 16, 8, 4, 2, 1], 10: [10, 5, 16, 8, 4, 2, 1], 3: [3, 10, 5, 16, 8, 4, 2, 1]}\n"
     ]
    }
   ],
   "source": [
    "# 1\n",
    "\n",
    "def generate_sequence(n):\n",
    "    sequence = [n]\n",
    "    while n != 1:\n",
    "        if n % 2 == 0:\n",
    "            n = n // 2\n",
    "        else:\n",
    "            n = n * 3 + 1\n",
    "        sequence.append(n)\n",
    "    return sequence\n",
    "\n",
    "cache = {}\n",
    "\n",
    "def generate_sequence_cached(n):\n",
    "    if n in cache:\n",
    "        return cache[n]\n",
    "\n",
    "    if n == 1:\n",
    "        cache[n] = [1]\n",
    "        return cache[n]\n",
    "\n",
    "    if n % 2 == 0:\n",
    "        next_n = n // 2\n",
    "    else:\n",
    "        next_n = n * 3 + 1\n",
    "\n",
    "    sequence = [n] + generate_sequence_cached(next_n)\n",
    "    cache[n] = sequence\n",
    "    return sequence\n",
    "\n",
    "\n",
    "def main():\n",
    "    print(\"Without cache:\", generate_sequence(3))\n",
    "    print(\"With cache:\", generate_sequence_cached(3))\n",
    "    print(\"Cached values:\", cache)\n",
    "\n",
    "if __name__ == \"__main__\":\n",
    "    main()"
   ]
  }
 ],
 "metadata": {
  "kernelspec": {
   "display_name": "Python 3",
   "language": "python",
   "name": "python3"
  },
  "language_info": {
   "codemirror_mode": {
    "name": "ipython",
    "version": 3
   },
   "file_extension": ".py",
   "mimetype": "text/x-python",
   "name": "python",
   "nbconvert_exporter": "python",
   "pygments_lexer": "ipython3",
   "version": "3.9.6"
  }
 },
 "nbformat": 4,
 "nbformat_minor": 5
}
