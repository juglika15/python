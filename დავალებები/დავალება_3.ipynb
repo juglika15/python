{
 "cells": [
  {
   "cell_type": "code",
   "execution_count": 5,
   "metadata": {},
   "outputs": [
    {
     "name": "stdout",
     "output_type": "stream",
     "text": [
      "256.0\n"
     ]
    }
   ],
   "source": [
    "# 3.1\n",
    "import math\n",
    "\n",
    "x = float(input(\"შეიყვანეთ x რიცხვი: \"))\n",
    "y = float(input(\"შეიყვანეთ y რიცხვი: \"))\n",
    "\n",
    "result = math.pow(x, y)\n",
    "\n",
    "print(result)"
   ]
  },
  {
   "cell_type": "code",
   "execution_count": 6,
   "metadata": {},
   "outputs": [
    {
     "name": "stdout",
     "output_type": "stream",
     "text": [
      "შემთხვევითი რიცხვი: 7.336021421232985\n",
      "დამრგვალებული რიცხვი : 7.3\n",
      "დამრგვალებული რიცხვი math მოდულის ფუნქციით: 7.3\n"
     ]
    }
   ],
   "source": [
    "# 3.2\n",
    "import random\n",
    "import math\n",
    "\n",
    "random_number = random.uniform(0, 100)\n",
    "\n",
    "rounded_number_v1 = round(random_number, 1) \n",
    "\n",
    "# math მოდულის ფუნქციით\n",
    "rounded_number_v2 = math.floor(random_number * 10)/ 10\n",
    "\n",
    "\n",
    "print(f\"შემთხვევითი რიცხვი: {random_number}\")\n",
    "print(f\"დამრგვალებული რიცხვი : {rounded_number_v1}\")\n",
    "print(f\"დამრგვალებული რიცხვი math მოდულის ფუნქციით: {rounded_number_v2}\")"
   ]
  },
  {
   "cell_type": "code",
   "execution_count": 7,
   "metadata": {},
   "outputs": [
    {
     "name": "stdout",
     "output_type": "stream",
     "text": [
      "Friday\n"
     ]
    }
   ],
   "source": [
    "#3.3\n",
    "import datetime\n",
    "\n",
    "year = int(input(\"შეიყვანეთ დაბადების წელი: \"))\n",
    "month = int(input(\"შეიყვანეთ დაბადების თვე (1-12): \"))\n",
    "day = int(input(\"შეიყვანეთ დაბადების რიცხვი (1-31): \"))\n",
    "\n",
    "birth_day = datetime.date(year, month, day)\n",
    "week_day = birth_day.strftime(\"%A\")\n",
    "\n",
    "print(week_day)"
   ]
  },
  {
   "cell_type": "code",
   "execution_count": 8,
   "metadata": {},
   "outputs": [
    {
     "name": "stdout",
     "output_type": "stream",
     "text": [
      "შემთხვევითი ბანქო: 7 ♣ Clubs\n"
     ]
    }
   ],
   "source": [
    "# 3.4\n",
    "import random\n",
    "\n",
    "suits = [\"♣ Clubs\", \"♦ Diamonds\", \"♥ Hearts\", \"♠ Spades\"]\n",
    "ranks = [\"A\", \"K\", \"Q\", \"J\", \"10\", \"9\", \"8\", \"7\", \"6\", \"5\", \"4\", \"3\", \"2\"]\n",
    "\n",
    "random_suit = random.choice(suits)\n",
    "random_rank = random.choice(ranks)\n",
    "\n",
    "print(f\"შემთხვევითი ბანქო: {random_rank} {random_suit}\")"
   ]
  }
 ],
 "metadata": {
  "kernelspec": {
   "display_name": "Python 3",
   "language": "python",
   "name": "python3"
  },
  "language_info": {
   "codemirror_mode": {
    "name": "ipython",
    "version": 3
   },
   "file_extension": ".py",
   "mimetype": "text/x-python",
   "name": "python",
   "nbconvert_exporter": "python",
   "pygments_lexer": "ipython3",
   "version": "3.9.6"
  }
 },
 "nbformat": 4,
 "nbformat_minor": 2
}
