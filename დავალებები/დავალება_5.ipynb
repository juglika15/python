{
 "cells": [
  {
   "cell_type": "code",
   "execution_count": null,
   "metadata": {},
   "outputs": [
    {
     "name": "stdout",
     "output_type": "stream",
     "text": [
      "1 – 1 \n",
      "2 – 1 2 \n",
      "3 – 1 3 \n",
      "4 – 1 2 4 \n",
      "5 – 1 5 \n",
      "6 – 1 2 3 \n",
      "7 – 1 7 \n",
      "8 – 1 2 4 \n",
      "9 – 1 3 9 \n",
      "10 – 1 2 5 \n",
      "11 – 1 11 \n",
      "12 – 1 2 3 \n"
     ]
    }
   ],
   "source": [
    "# 5.1\n",
    "n = int(input('შეიყვანეთ მთელი რიცხვი 1-დან 50-მდე:'))\n",
    "\n",
    "if n <= 0 or n >= 50:\n",
    "    print(\"რიცხვი უნდა იყოს 0-ზე მეტი და 50-ზე ნაკლები.\")\n",
    "else:\n",
    "    i = 1\n",
    "    while i <= n:\n",
    "        print(f\"{i} –\", end=\" \")\n",
    "        divisor = 1\n",
    "        count = 0\n",
    "        while divisor <= i and count < 3:\n",
    "            if i % divisor == 0:\n",
    "                print(divisor, end=\" \")\n",
    "                count += 1\n",
    "            divisor += 1\n",
    "        print()\n",
    "        i += 1"
   ]
  },
  {
   "cell_type": "code",
   "execution_count": null,
   "metadata": {},
   "outputs": [
    {
     "name": "stdout",
     "output_type": "stream",
     "text": [
      "1 * 1 = 1\t\n",
      "1 * 2 = 2\t2 * 2 = 4\t\n",
      "1 * 3 = 3\t2 * 3 = 6\t3 * 3 = 9\t\n",
      "1 * 4 = 4\t2 * 4 = 8\t3 * 4 = 12\t4 * 4 = 16\t\n",
      "1 * 5 = 5\t2 * 5 = 10\t3 * 5 = 15\t4 * 5 = 20\t5 * 5 = 25\t\n",
      "1 * 6 = 6\t2 * 6 = 12\t3 * 6 = 18\t4 * 6 = 24\t5 * 6 = 30\t6 * 6 = 36\t\n",
      "1 * 7 = 7\t2 * 7 = 14\t3 * 7 = 21\t4 * 7 = 28\t5 * 7 = 35\t6 * 7 = 42\t7 * 7 = 49\t\n",
      "1 * 8 = 8\t2 * 8 = 16\t3 * 8 = 24\t4 * 8 = 32\t5 * 8 = 40\t6 * 8 = 48\t7 * 8 = 56\t8 * 8 = 64\t\n",
      "1 * 9 = 9\t2 * 9 = 18\t3 * 9 = 27\t4 * 9 = 36\t5 * 9 = 45\t6 * 9 = 54\t7 * 9 = 63\t8 * 9 = 72\t9 * 9 = 81\t\n"
     ]
    }
   ],
   "source": [
    "# 5.2\n",
    "\n",
    "for i in range(1, 10):\n",
    "    for j in range(1, i+1):\n",
    "        print(f\"{j} * {i} = {j*i}\", end=\"\\t\")\n",
    "    print()\n"
   ]
  },
  {
   "cell_type": "code",
   "execution_count": 6,
   "metadata": {},
   "outputs": [
    {
     "name": "stdout",
     "output_type": "stream",
     "text": [
      "0 1 1 2 3 5 "
     ]
    }
   ],
   "source": [
    "# 5.3\n",
    "\n",
    "n = int(input(\"შეიყვანეთ რიცხვი 1-დან 20-მდე: \"))\n",
    "\n",
    "i = 0\n",
    "a = 0\n",
    "b = 1\n",
    "\n",
    "while i <= n:\n",
    "    if i == 0:\n",
    "        print(a, end=\" \")\n",
    "    elif i == 1:\n",
    "        print(b, end=\" \")\n",
    "    else:\n",
    "        c = a + b\n",
    "        print(c, end=\" \")\n",
    "        a = b\n",
    "        b = c\n",
    "    i += 1\n"
   ]
  },
  {
   "cell_type": "code",
   "execution_count": null,
   "metadata": {},
   "outputs": [
    {
     "name": "stdout",
     "output_type": "stream",
     "text": [
      "   *\n",
      "  /*\\\n",
      " /***\\\n",
      "/*****\\\n",
      "   |\n"
     ]
    }
   ],
   "source": [
    "# 5.4\n",
    "\n",
    "n = int(input(\"შემოიტანეთ ნატურალური რიცხვი (0 < n < 50): \"))\n",
    "\n",
    "for i in range(1, n + 1):\n",
    "    if i == 1:\n",
    "        print(\" \" * (n - 1) + \"*\")\n",
    "    else:\n",
    "        inner = \"*\" * (2 * i - 3)\n",
    "        print(\" \" * (n - i) + \"/\" + inner + \"\\\\\")\n",
    "        \n",
    "print(\" \" * (n - 1) + \"|\")\n"
   ]
  }
 ],
 "metadata": {
  "kernelspec": {
   "display_name": "Python 3",
   "language": "python",
   "name": "python3"
  },
  "language_info": {
   "codemirror_mode": {
    "name": "ipython",
    "version": 3
   },
   "file_extension": ".py",
   "mimetype": "text/x-python",
   "name": "python",
   "nbconvert_exporter": "python",
   "pygments_lexer": "ipython3",
   "version": "3.9.6"
  }
 },
 "nbformat": 4,
 "nbformat_minor": 2
}
