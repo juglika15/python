{
 "cells": [
  {
   "cell_type": "code",
   "execution_count": 75,
   "id": "9bf56686",
   "metadata": {},
   "outputs": [
    {
     "name": "stdout",
     "output_type": "stream",
     "text": [
      "Hello ლაშა ჯუღელი.\n",
      "Age: 29.\n",
      "City: თბილისი.\n"
     ]
    }
   ],
   "source": [
    "# 1\n",
    "\n",
    "first_name = input('შეიყვანეთ თქვენი სახელი')\n",
    "last_name = input('შეიყვანეთ თქვენი გვარი')\n",
    "age = input('შეიყვანეთ თქვენი ასაკი')\n",
    "city = input('შეიყვანეთ თქვენი ქალაქი')\n",
    "\n",
    "print(f\"Hello {first_name} {last_name}.\")\n",
    "print(f\"Age: {age}.\")\n",
    "print(f\"City: {city}.\")"
   ]
  },
  {
   "cell_type": "code",
   "execution_count": 76,
   "id": "b584185e",
   "metadata": {},
   "outputs": [
    {
     "name": "stdout",
     "output_type": "stream",
     "text": [
      "[13, 26, 39, 52, 65, 78]\n",
      "ამ რიცხვების რაოდენობა არის 6\n"
     ]
    }
   ],
   "source": [
    "# 2\n",
    "\n",
    "n = int(input('შეიყვანეთ მთელი რიცხვი 10-დან 5432-ის ჩათვლით'))\n",
    "\n",
    "if 10 <= n <= 5432:\n",
    "    result = []\n",
    "    for i in range(1, n + 1):\n",
    "        if i % 13 == 0:\n",
    "            result.append(i)\n",
    "    print(result)\n",
    "    print(\"ამ რიცხვების რაოდენობა არის\", len(result))\n",
    "else:\n",
    "    print(\"პროგრამას გადმოეცა არაასწორი რიცხვი\")\n"
   ]
  },
  {
   "cell_type": "code",
   "execution_count": 77,
   "id": "660f7475",
   "metadata": {},
   "outputs": [
    {
     "name": "stdout",
     "output_type": "stream",
     "text": [
      "პირველი მოთამაშის სიმბოლო: R\n",
      "მეორე მოთამაშის სიმბოლო: R\n",
      "თამაში დასრულდა ფრე\n"
     ]
    }
   ],
   "source": [
    "# 3\n",
    "\n",
    "from random import choice\n",
    "\n",
    "def generate_player_1():\n",
    "    return choice([\"R\", \"S\", \"P\"])\n",
    "\n",
    "def main():\n",
    "    p1 = generate_player_1()\n",
    "    p2 = input(\"შეიყვანეთ თქვენი არჩევანი: (R/P/S)\")\n",
    "\n",
    "    print(f\"პირველი მოთამაშის სიმბოლო: {p1}\")\n",
    "    print(f\"მეორე მოთამაშის სიმბოლო: {p2}\")\n",
    "    p_1_win_opts = [(\"R\", \"S\"), (\"S\", \"P\"), (\"P\", \"R\")]\n",
    "\n",
    "    if p1 == p2:\n",
    "        print('თამაში დასრულდა ფრე')\n",
    "    elif (p1, p2) in p_1_win_opts:\n",
    "        print('გაიმარჯვა პირველმა მოთამაშემ')\n",
    "    else:\n",
    "        print('გაიმარჯვა მეორე მოთამაშემ')\n",
    "\n",
    "if __name__ == \"__main__\":\n",
    "    main()"
   ]
  }
 ],
 "metadata": {
  "kernelspec": {
   "display_name": "Python 3",
   "language": "python",
   "name": "python3"
  },
  "language_info": {
   "codemirror_mode": {
    "name": "ipython",
    "version": 3
   },
   "file_extension": ".py",
   "mimetype": "text/x-python",
   "name": "python",
   "nbconvert_exporter": "python",
   "pygments_lexer": "ipython3",
   "version": "3.9.6"
  }
 },
 "nbformat": 4,
 "nbformat_minor": 5
}
